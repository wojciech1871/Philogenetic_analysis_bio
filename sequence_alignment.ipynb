{
 "cells": [
  {
   "cell_type": "code",
   "execution_count": 9,
   "metadata": {},
   "outputs": [],
   "source": [
    "from Bio import SeqIO\n",
    "from Bio import Phylo\n",
    "import random\n",
    "import os, shutil\n",
    "from tqdm import tqdm\n",
    "import subprocess"
   ]
  },
  {
   "cell_type": "code",
   "execution_count": 2,
   "metadata": {},
   "outputs": [],
   "source": [
    "def generate_n_sequences(number_of_sequences=8000, input_folder=\"sequences\", output_folder=\"sequences_sampled\"):\n",
    "    os.makedirs(output_folder, exist_ok=True)\n",
    "    for file in tqdm(os.listdir(input_folder)):\n",
    "        paresed_seq = list(SeqIO.parse(os.path.join(input_folder, file), format=\"fasta\"))\n",
    "        sampled_sequences = random.sample(paresed_seq, number_of_sequences)\n",
    "        SeqIO.write(sampled_sequences, os.path.join(output_folder, file), format=\"fasta\")"
   ]
  },
  {
   "cell_type": "code",
   "execution_count": 3,
   "metadata": {},
   "outputs": [
    {
     "name": "stderr",
     "output_type": "stream",
     "text": [
      "100%|████████████████████████████████████████████████████████████████████████████████████| 8/8 [00:07<00:00,  1.06it/s]\n"
     ]
    }
   ],
   "source": [
    "generate_n_sequences()"
   ]
  },
  {
   "cell_type": "code",
   "execution_count": 4,
   "metadata": {},
   "outputs": [],
   "source": [
    "def aggregate_fasta_files_to_one_file(input_folder=\"sequences_sampled\", output_folder=\"sequences_aggregated\"):\n",
    "    os.makedirs(output_folder, exist_ok=True)\n",
    "    with open(os.path.join(output_folder, \"sequences_aggregated.fasta\"), 'w') as outfile:\n",
    "        for file in tqdm(os.listdir(input_folder)):\n",
    "            with open(os.path.join(input_folder, file)) as infile:\n",
    "                for line in infile:\n",
    "                    outfile.write(line)"
   ]
  },
  {
   "cell_type": "code",
   "execution_count": 5,
   "metadata": {},
   "outputs": [
    {
     "name": "stderr",
     "output_type": "stream",
     "text": [
      "100%|████████████████████████████████████████████████████████████████████████████████████| 8/8 [00:01<00:00,  6.49it/s]\n"
     ]
    }
   ],
   "source": [
    "aggregate_fasta_files_to_one_file()"
   ]
  },
  {
   "cell_type": "code",
   "execution_count": 10,
   "metadata": {},
   "outputs": [],
   "source": [
    "def run_usearch(input_file=\"sequences_aggregated/sequences_aggregated.fasta\", output_folder=\"raw_clusters\", id=0.9):\n",
    "    shutil.rmtree(output_folder)\n",
    "    os.makedirs(output_folder, exist_ok=True)\n",
    "    cmd = \"usearch11.0.667_win32.exe -id {} -cluster_fast {} -clusters {}/\".format(id, input_file, output_folder)\n",
    "    stream = os.popen(cmd)\n",
    "    print(stream.read())"
   ]
  },
  {
   "cell_type": "code",
   "execution_count": 11,
   "metadata": {},
   "outputs": [
    {
     "name": "stdout",
     "output_type": "stream",
     "text": [
      "usearch v11.0.667_win32, 2.0Gb RAM (8.4Gb total), 8 cores\n",
      "(C) Copyright 2013-18 Robert C. Edgar, all rights reserved.\n",
      "https://drive5.com/usearch\n",
      "\n",
      "License: w.celej@student.mini.pw.edu.pl\n",
      "\n",
      "\n"
     ]
    }
   ],
   "source": [
    "run_usearch(id=0.1)"
   ]
  },
  {
   "cell_type": "code",
   "execution_count": 33,
   "metadata": {},
   "outputs": [],
   "source": [
    "def filter_clusters(input_folder=\"raw_clusters\", output_folder=\"filtered_clusters\", number_of_species=8):\n",
    "    os.makedirs(filter_clusters, exist_ok=True)\n",
    "    selected_clusters = set()\n",
    "    for file in tqdm(os.listdir(input_folder)):\n",
    "        seqs_in_cluster = list(SeqIO.parse(os.path.join(input_folder, file), format=\"fasta\"))\n",
    "        unique_species_ids = set()\n",
    "        if len(seqs_in_cluster) == number_of_species:\n",
    "            for seq in seqs_in_cluster:\n",
    "                seq_name = seq.id.split(\"|\")[-1].split(\"_\")[-1]\n",
    "                unique_species_ids.add(seq_name)\n",
    "            if len(unique_species_ids) == number_of_species:\n",
    "                selected_clusters.add(file)\n",
    "    return selected_clusters"
   ]
  },
  {
   "cell_type": "code",
   "execution_count": 34,
   "metadata": {},
   "outputs": [
    {
     "name": "stderr",
     "output_type": "stream",
     "text": [
      "100%|██████████████████████████████████████████████████████████████████████████| 14401/14401 [00:02<00:00, 6035.03it/s]\n"
     ]
    }
   ],
   "source": [
    "a = filter_clusters()"
   ]
  },
  {
   "cell_type": "code",
   "execution_count": 35,
   "metadata": {},
   "outputs": [
    {
     "data": {
      "text/plain": [
       "1"
      ]
     },
     "execution_count": 35,
     "metadata": {},
     "output_type": "execute_result"
    }
   ],
   "source": [
    "len(a)"
   ]
  },
  {
   "cell_type": "code",
   "execution_count": 36,
   "metadata": {},
   "outputs": [
    {
     "data": {
      "text/plain": [
       "{'8089'}"
      ]
     },
     "execution_count": 36,
     "metadata": {},
     "output_type": "execute_result"
    }
   ],
   "source": [
    "a"
   ]
  }
 ],
 "metadata": {
  "kernelspec": {
   "display_name": "Biopython",
   "language": "python",
   "name": "biopython"
  },
  "language_info": {
   "codemirror_mode": {
    "name": "ipython",
    "version": 3
   },
   "file_extension": ".py",
   "mimetype": "text/x-python",
   "name": "python",
   "nbconvert_exporter": "python",
   "pygments_lexer": "ipython3",
   "version": "3.7.3"
  }
 },
 "nbformat": 4,
 "nbformat_minor": 4
}
