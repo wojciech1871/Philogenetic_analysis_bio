{
 "cells": [
  {
   "cell_type": "code",
   "execution_count": 1,
   "metadata": {},
   "outputs": [],
   "source": [
    "import random\n",
    "import os, shutil\n",
    "from tqdm import tqdm\n",
    "import matplotlib.pyplot as plt\n",
    "\n",
    "from Bio import SeqIO\n",
    "from Bio import Phylo\n",
    "from Bio.Phylo import Consensus"
   ]
  },
  {
   "cell_type": "code",
   "execution_count": 2,
   "metadata": {},
   "outputs": [],
   "source": [
    "def generate_n_sequences(number_of_sequences=5000, input_folder=\"sequences\", output_folder=\"sequences_sampled\"):\n",
    "    random.seed(111)\n",
    "    os.makedirs(output_folder, exist_ok=True)\n",
    "    for file in tqdm(os.listdir(input_folder)):\n",
    "        paresed_seq = list(SeqIO.parse(os.path.join(input_folder, file), format=\"fasta\"))\n",
    "        sampled_sequences = random.sample(paresed_seq, number_of_sequences)\n",
    "        SeqIO.write(sampled_sequences, os.path.join(output_folder, file), format=\"fasta\")"
   ]
  },
  {
   "cell_type": "code",
   "execution_count": 3,
   "metadata": {},
   "outputs": [
    {
     "name": "stderr",
     "output_type": "stream",
     "text": [
      "100%|████████████████████████████████████████████████████████████████████████████████████| 9/9 [00:10<00:00,  1.06s/it]\n"
     ]
    }
   ],
   "source": [
    "generate_n_sequences()"
   ]
  },
  {
   "cell_type": "code",
   "execution_count": 4,
   "metadata": {},
   "outputs": [],
   "source": [
    "def aggregate_fasta_files_to_one_file(input_folder=\"sequences_sampled\", output_folder=\"sequences_aggregated\"):\n",
    "    os.makedirs(output_folder, exist_ok=True)\n",
    "    with open(os.path.join(output_folder, \"sequences_aggregated.fasta\"), 'w') as outfile:\n",
    "        for file in tqdm(os.listdir(input_folder)):\n",
    "            with open(os.path.join(input_folder, file)) as infile:\n",
    "                for line in infile:\n",
    "                    outfile.write(line)"
   ]
  },
  {
   "cell_type": "code",
   "execution_count": 5,
   "metadata": {},
   "outputs": [
    {
     "name": "stderr",
     "output_type": "stream",
     "text": [
      "100%|████████████████████████████████████████████████████████████████████████████████████| 9/9 [00:00<00:00, 10.28it/s]\n"
     ]
    }
   ],
   "source": [
    "aggregate_fasta_files_to_one_file()"
   ]
  },
  {
   "cell_type": "code",
   "execution_count": 6,
   "metadata": {},
   "outputs": [],
   "source": [
    "def run_usearch(input_file=\"sequences_aggregated/sequences_aggregated.fasta\", output_folder=\"raw_clusters\", id=0.9):\n",
    "    shutil.rmtree(output_folder)\n",
    "    os.makedirs(output_folder)\n",
    "    cmd = \"usearch11.0.667_win32.exe -id {} -cluster_fast {} -clusters {}/\".format(id, input_file, output_folder)\n",
    "    stream = os.popen(cmd)\n",
    "    print(stream.read())"
   ]
  },
  {
   "cell_type": "code",
   "execution_count": 7,
   "metadata": {},
   "outputs": [
    {
     "name": "stdout",
     "output_type": "stream",
     "text": [
      "usearch v11.0.667_win32, 2.0Gb RAM (8.4Gb total), 8 cores\n",
      "(C) Copyright 2013-18 Robert C. Edgar, all rights reserved.\n",
      "https://drive5.com/usearch\n",
      "\n",
      "License: w.celej@student.mini.pw.edu.pl\n",
      "\n",
      "\n"
     ]
    }
   ],
   "source": [
    "run_usearch(id=0.2)"
   ]
  },
  {
   "cell_type": "code",
   "execution_count": 8,
   "metadata": {},
   "outputs": [],
   "source": [
    "def filter_clusters(input_folder=\"raw_clusters\", output_folder=\"filtered_clusters\", number_of_species=9):\n",
    "    try:\n",
    "        shutil.rmtree(output_folder)\n",
    "    except:\n",
    "        pass\n",
    "    os.makedirs(output_folder)\n",
    "    \n",
    "    selected_clusters = set()\n",
    "    for file in tqdm(os.listdir(input_folder)):\n",
    "        seqs_in_cluster = list(SeqIO.parse(os.path.join(input_folder, file), format=\"fasta\"))\n",
    "        unique_species_ids = {}\n",
    "        if len(seqs_in_cluster) >= number_of_species:\n",
    "            for seq in seqs_in_cluster:\n",
    "                seq_name = seq.id.split(\"|\")[-1].split(\"_\")[-1]\n",
    "                unique_species_ids[seq_name] = seq\n",
    "            if len(unique_species_ids) == number_of_species:\n",
    "                selected_clusters.add(file)\n",
    "                SeqIO.write(list(unique_species_ids.values()), os.path.join(output_folder, \"{}.fasta\".format(file)), format=\"fasta\")\n",
    "    return selected_clusters"
   ]
  },
  {
   "cell_type": "code",
   "execution_count": 9,
   "metadata": {},
   "outputs": [
    {
     "name": "stderr",
     "output_type": "stream",
     "text": [
      "100%|██████████████████████████████████████████████████████████████████████████| 13852/13852 [00:02<00:00, 5556.62it/s]\n"
     ]
    }
   ],
   "source": [
    "a = filter_clusters()"
   ]
  },
  {
   "cell_type": "code",
   "execution_count": 10,
   "metadata": {},
   "outputs": [
    {
     "data": {
      "text/plain": [
       "54"
      ]
     },
     "execution_count": 10,
     "metadata": {},
     "output_type": "execute_result"
    }
   ],
   "source": [
    "len(a)"
   ]
  },
  {
   "cell_type": "code",
   "execution_count": 22,
   "metadata": {},
   "outputs": [],
   "source": [
    "def run_clustalw(input_folder=\"filtered_clusters\"):\n",
    "    fasta_files = [file for file in os.listdir(input_folder) if file.endswith(\".fasta\")]\n",
    "    for file in fasta_files:\n",
    "        cmd = \"clustalw2.exe -infile={} -clustering=NJ\".format(os.path.join(input_folder, file))\n",
    "        stream = os.popen(cmd)"
   ]
  },
  {
   "cell_type": "code",
   "execution_count": 23,
   "metadata": {},
   "outputs": [],
   "source": [
    "run_clustalw()"
   ]
  },
  {
   "cell_type": "code",
   "execution_count": 24,
   "metadata": {},
   "outputs": [],
   "source": [
    "def move_tree_files(input_folder=\"filtered_clusters\", output_folder=\"trees\"):\n",
    "    try:\n",
    "        shutil.rmtree(output_folder)\n",
    "    except:\n",
    "        pass\n",
    "    os.makedirs(output_folder)\n",
    "    \n",
    "    tree_files = [file for file in os.listdir(input_folder) if file.endswith(\".dnd\")]\n",
    "    for file in tree_files:\n",
    "        src = os.path.join(input_folder, file)\n",
    "        dst = os.path.join(output_folder, file)\n",
    "        shutil.move(src, dst)"
   ]
  },
  {
   "cell_type": "code",
   "execution_count": 25,
   "metadata": {},
   "outputs": [],
   "source": [
    "move_tree_files()"
   ]
  },
  {
   "cell_type": "code",
   "execution_count": 26,
   "metadata": {},
   "outputs": [],
   "source": [
    "def aggregate_trees_and_rename_nodes(input_folder=\"trees\", output_folder=\"aggregated_trees\"):\n",
    "    os.makedirs(output_folder, exist_ok=True)\n",
    "    name_dictionary = {\n",
    "        \"HUMAN\": \"Human\",\n",
    "        \"PAPAN\": \"Baboon\",\n",
    "        \"RAT\": \"Rat\",\n",
    "        \"OTOGA\" : \"Galago\",\n",
    "        \"MOUSE\": \"Mouse\",\n",
    "        \"PANTR\": \"Chimpanzee\",\n",
    "        \"RABIT\": \"Rabbit\",\n",
    "        \"MACMU\": \"Macaque\",\n",
    "        \"CALJA\": \"Marmoset\"\n",
    "    }\n",
    "    tree_files = [file for file in os.listdir(input_folder) if file.endswith(\".dnd\")]\n",
    "    with open(os.path.join(output_folder, \"trees_aggregated.dnd\"), 'w') as outfile:\n",
    "        for file in tqdm(tree_files):\n",
    "            with open(os.path.join(input_folder, file)) as infile:\n",
    "                for line in infile:\n",
    "                    if \"|\" in line:\n",
    "                        line_splitted = line.split(\":\")\n",
    "                        tail = \"\".join(line_splitted[1:])\n",
    "                        name = line_splitted[0].split(\"|\")[-1].split(\"_\")[-1]\n",
    "                        line = \"{}:{}\".format(name_dictionary[name], tail)\n",
    "                    outfile.write(line)"
   ]
  },
  {
   "cell_type": "code",
   "execution_count": 27,
   "metadata": {},
   "outputs": [
    {
     "name": "stderr",
     "output_type": "stream",
     "text": [
      "100%|████████████████████████████████████████████████████████████████████████████████| 54/54 [00:00<00:00, 2578.61it/s]\n"
     ]
    }
   ],
   "source": [
    "aggregate_trees_and_rename_nodes()"
   ]
  },
  {
   "cell_type": "code",
   "execution_count": 28,
   "metadata": {},
   "outputs": [],
   "source": [
    "def plot_trees(input_folder=\"aggregated_trees\", output_folder=\"plotted_trees\"):\n",
    "    try:\n",
    "        shutil.rmtree(output_folder)\n",
    "    except:\n",
    "        pass\n",
    "    os.makedirs(output_folder)    \n",
    "    trees = Phylo.parse(os.path.join(\"aggregated_trees\", \"trees_aggregated.dnd\"), format=\"newick\")\n",
    "    for i, tree in enumerate(trees):\n",
    "        Phylo.draw(tree, do_show=False)\n",
    "        plt.savefig(os.path.join(output_folder, \"tree_{}.png\".format(i)))\n",
    "        plt.close()"
   ]
  },
  {
   "cell_type": "code",
   "execution_count": 29,
   "metadata": {},
   "outputs": [],
   "source": [
    "plot_trees()"
   ]
  },
  {
   "cell_type": "code",
   "execution_count": 30,
   "metadata": {},
   "outputs": [],
   "source": [
    "def build_consensus_trees(input_folder=\"aggregated_trees\", output_folder=\"consensus_trees\"):\n",
    "    os.makedirs(output_folder, exist_ok=True)\n",
    "    trees = Phylo.parse(os.path.join(\"aggregated_trees\", \"trees_aggregated.dnd\"), format=\"newick\")\n",
    "    consensus_tree = Consensus.majority_consensus(trees)\n",
    "    Phylo.write(consensus_tree, os.path.join(output_folder, \"majority_consensus_tree.dnd\"), format=\"newick\")\n",
    "    Phylo.draw(consensus_tree, do_show=False)\n",
    "    plt.savefig(os.path.join(output_folder, \"majority_consensus_tree.png\"))\n",
    "    \n",
    "    trees = Phylo.parse(os.path.join(\"aggregated_trees\", \"trees_aggregated.dnd\"), format=\"newick\")\n",
    "    strict_consensus_tree = Consensus.strict_consensus(trees)\n",
    "    Phylo.write(strict_consensus_tree, os.path.join(output_folder, \"strict_consensus_tree.dnd\"), format=\"newick\")\n",
    "    Phylo.draw(strict_consensus_tree, do_show=False)\n",
    "    plt.savefig(os.path.join(output_folder, \"strict_consensus_tree.png\"))"
   ]
  },
  {
   "cell_type": "code",
   "execution_count": 31,
   "metadata": {},
   "outputs": [
    {
     "data": {
      "image/png": "[encoded data removed]",
      "text/plain": [
       "<Figure size 432x288 with 1 Axes>"
      ]
     },
     "metadata": {
      "needs_background": "light"
     },
     "output_type": "display_data"
    },
    {
     "data": {
      "image/png": "[encoded data removed]",
      "text/plain": [
       "<Figure size 432x288 with 1 Axes>"
      ]
     },
     "metadata": {
      "needs_background": "light"
     },
     "output_type": "display_data"
    }
   ],
   "source": [
    "build_consensus_trees()"
   ]
  },
  {
   "cell_type": "code",
   "execution_count": null,
   "metadata": {},
   "outputs": [],
   "source": []
  }
 ],
 "metadata": {
  "kernelspec": {
   "display_name": "Biopython",
   "language": "python",
   "name": "biopython"
  },
  "language_info": {
   "codemirror_mode": {
    "name": "ipython",
    "version": 3
   },
   "file_extension": ".py",
   "mimetype": "text/x-python",
   "name": "python",
   "nbconvert_exporter": "python",
   "pygments_lexer": "ipython3",
   "version": "3.7.3"
  }
 },
 "nbformat": 4,
 "nbformat_minor": 4
}
